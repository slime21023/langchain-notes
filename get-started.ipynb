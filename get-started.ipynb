{
 "cells": [
  {
   "cell_type": "markdown",
   "metadata": {},
   "source": [
    "### Install packages\n",
    "* langchain\n",
    "*  cohere"
   ]
  },
  {
   "cell_type": "code",
   "execution_count": 3,
   "metadata": {},
   "outputs": [
    {
     "name": "stdout",
     "output_type": "stream",
     "text": [
      "Requirement already satisfied: langchain in c:\\anaconda\\envs\\py39\\lib\\site-packages (0.1.5)\n",
      "Requirement already satisfied: langchain-community in c:\\anaconda\\envs\\py39\\lib\\site-packages (0.0.17)\n",
      "Collecting cohere\n",
      "  Downloading cohere-4.45-py3-none-any.whl.metadata (6.0 kB)\n",
      "Requirement already satisfied: PyYAML>=5.3 in c:\\anaconda\\envs\\py39\\lib\\site-packages (from langchain) (6.0.1)\n",
      "Requirement already satisfied: SQLAlchemy<3,>=1.4 in c:\\anaconda\\envs\\py39\\lib\\site-packages (from langchain) (2.0.25)\n",
      "Requirement already satisfied: aiohttp<4.0.0,>=3.8.3 in c:\\anaconda\\envs\\py39\\lib\\site-packages (from langchain) (3.9.3)\n",
      "Requirement already satisfied: async-timeout<5.0.0,>=4.0.0 in c:\\anaconda\\envs\\py39\\lib\\site-packages (from langchain) (4.0.3)\n",
      "Requirement already satisfied: dataclasses-json<0.7,>=0.5.7 in c:\\anaconda\\envs\\py39\\lib\\site-packages (from langchain) (0.6.4)\n",
      "Requirement already satisfied: jsonpatch<2.0,>=1.33 in c:\\anaconda\\envs\\py39\\lib\\site-packages (from langchain) (1.33)\n",
      "Requirement already satisfied: langchain-core<0.2,>=0.1.16 in c:\\anaconda\\envs\\py39\\lib\\site-packages (from langchain) (0.1.18)\n",
      "Requirement already satisfied: langsmith<0.1,>=0.0.83 in c:\\anaconda\\envs\\py39\\lib\\site-packages (from langchain) (0.0.86)\n",
      "Requirement already satisfied: numpy<2,>=1 in c:\\anaconda\\envs\\py39\\lib\\site-packages (from langchain) (1.26.3)\n",
      "Requirement already satisfied: pydantic<3,>=1 in c:\\anaconda\\envs\\py39\\lib\\site-packages (from langchain) (2.5.3)\n",
      "Requirement already satisfied: requests<3,>=2 in c:\\anaconda\\envs\\py39\\lib\\site-packages (from langchain) (2.31.0)\n",
      "Requirement already satisfied: tenacity<9.0.0,>=8.1.0 in c:\\anaconda\\envs\\py39\\lib\\site-packages (from langchain) (8.2.3)\n",
      "Requirement already satisfied: backoff<3.0,>=2.0 in c:\\anaconda\\envs\\py39\\lib\\site-packages (from cohere) (2.2.1)\n",
      "Collecting fastavro<2.0,>=1.8 (from cohere)\n",
      "  Downloading fastavro-1.9.3-cp39-cp39-win_amd64.whl.metadata (5.7 kB)\n",
      "Collecting importlib_metadata<7.0,>=6.0 (from cohere)\n",
      "  Downloading importlib_metadata-6.11.0-py3-none-any.whl.metadata (4.9 kB)\n",
      "Requirement already satisfied: urllib3<3,>=1.26 in c:\\anaconda\\envs\\py39\\lib\\site-packages (from cohere) (1.26.18)\n",
      "Requirement already satisfied: aiosignal>=1.1.2 in c:\\anaconda\\envs\\py39\\lib\\site-packages (from aiohttp<4.0.0,>=3.8.3->langchain) (1.3.1)\n",
      "Requirement already satisfied: attrs>=17.3.0 in c:\\anaconda\\envs\\py39\\lib\\site-packages (from aiohttp<4.0.0,>=3.8.3->langchain) (23.2.0)\n",
      "Requirement already satisfied: frozenlist>=1.1.1 in c:\\anaconda\\envs\\py39\\lib\\site-packages (from aiohttp<4.0.0,>=3.8.3->langchain) (1.4.1)\n",
      "Requirement already satisfied: multidict<7.0,>=4.5 in c:\\anaconda\\envs\\py39\\lib\\site-packages (from aiohttp<4.0.0,>=3.8.3->langchain) (6.0.4)\n",
      "Requirement already satisfied: yarl<2.0,>=1.0 in c:\\anaconda\\envs\\py39\\lib\\site-packages (from aiohttp<4.0.0,>=3.8.3->langchain) (1.9.4)\n",
      "Requirement already satisfied: marshmallow<4.0.0,>=3.18.0 in c:\\anaconda\\envs\\py39\\lib\\site-packages (from dataclasses-json<0.7,>=0.5.7->langchain) (3.20.2)\n",
      "Requirement already satisfied: typing-inspect<1,>=0.4.0 in c:\\anaconda\\envs\\py39\\lib\\site-packages (from dataclasses-json<0.7,>=0.5.7->langchain) (0.9.0)\n",
      "Requirement already satisfied: zipp>=0.5 in c:\\anaconda\\envs\\py39\\lib\\site-packages (from importlib_metadata<7.0,>=6.0->cohere) (3.17.0)\n",
      "Requirement already satisfied: jsonpointer>=1.9 in c:\\anaconda\\envs\\py39\\lib\\site-packages (from jsonpatch<2.0,>=1.33->langchain) (2.4)\n",
      "Requirement already satisfied: anyio<5,>=3 in c:\\anaconda\\envs\\py39\\lib\\site-packages (from langchain-core<0.2,>=0.1.16->langchain) (4.2.0)\n",
      "Requirement already satisfied: packaging<24.0,>=23.2 in c:\\anaconda\\envs\\py39\\lib\\site-packages (from langchain-core<0.2,>=0.1.16->langchain) (23.2)\n",
      "Requirement already satisfied: annotated-types>=0.4.0 in c:\\anaconda\\envs\\py39\\lib\\site-packages (from pydantic<3,>=1->langchain) (0.6.0)\n",
      "Requirement already satisfied: pydantic-core==2.14.6 in c:\\anaconda\\envs\\py39\\lib\\site-packages (from pydantic<3,>=1->langchain) (2.14.6)\n",
      "Requirement already satisfied: typing-extensions>=4.6.1 in c:\\anaconda\\envs\\py39\\lib\\site-packages (from pydantic<3,>=1->langchain) (4.9.0)\n",
      "Requirement already satisfied: charset-normalizer<4,>=2 in c:\\anaconda\\envs\\py39\\lib\\site-packages (from requests<3,>=2->langchain) (3.3.2)\n",
      "Requirement already satisfied: idna<4,>=2.5 in c:\\anaconda\\envs\\py39\\lib\\site-packages (from requests<3,>=2->langchain) (3.6)\n",
      "Requirement already satisfied: certifi>=2017.4.17 in c:\\anaconda\\envs\\py39\\lib\\site-packages (from requests<3,>=2->langchain) (2023.11.17)\n",
      "Requirement already satisfied: greenlet!=0.4.17 in c:\\anaconda\\envs\\py39\\lib\\site-packages (from SQLAlchemy<3,>=1.4->langchain) (3.0.3)\n",
      "Requirement already satisfied: sniffio>=1.1 in c:\\anaconda\\envs\\py39\\lib\\site-packages (from anyio<5,>=3->langchain-core<0.2,>=0.1.16->langchain) (1.3.0)\n",
      "Requirement already satisfied: exceptiongroup>=1.0.2 in c:\\anaconda\\envs\\py39\\lib\\site-packages (from anyio<5,>=3->langchain-core<0.2,>=0.1.16->langchain) (1.2.0)\n",
      "Requirement already satisfied: mypy-extensions>=0.3.0 in c:\\anaconda\\envs\\py39\\lib\\site-packages (from typing-inspect<1,>=0.4.0->dataclasses-json<0.7,>=0.5.7->langchain) (1.0.0)\n",
      "Downloading cohere-4.45-py3-none-any.whl (52 kB)\n",
      "   ---------------------------------------- 0.0/52.1 kB ? eta -:--:--\n",
      "   ----------------------- ---------------- 30.7/52.1 kB 435.7 kB/s eta 0:00:01\n",
      "   ---------------------------------------- 52.1/52.1 kB 530.0 kB/s eta 0:00:00\n",
      "Downloading fastavro-1.9.3-cp39-cp39-win_amd64.whl (546 kB)\n",
      "   ---------------------------------------- 0.0/546.2 kB ? eta -:--:--\n",
      "   ----- ---------------------------------- 71.7/546.2 kB 3.8 MB/s eta 0:00:01\n",
      "   -------------- ------------------------- 204.8/546.2 kB 2.5 MB/s eta 0:00:01\n",
      "   ---------------------------- ----------- 389.1/546.2 kB 2.7 MB/s eta 0:00:01\n",
      "   ---------------------------------- ----- 471.0/546.2 kB 3.3 MB/s eta 0:00:01\n",
      "   ---------------------------------------- 546.2/546.2 kB 2.6 MB/s eta 0:00:00\n",
      "Downloading importlib_metadata-6.11.0-py3-none-any.whl (23 kB)\n",
      "Installing collected packages: importlib_metadata, fastavro, cohere\n",
      "  Attempting uninstall: importlib_metadata\n",
      "    Found existing installation: importlib-metadata 7.0.1\n",
      "    Uninstalling importlib-metadata-7.0.1:\n",
      "      Successfully uninstalled importlib-metadata-7.0.1\n",
      "Successfully installed cohere-4.45 fastavro-1.9.3 importlib_metadata-6.11.0\n"
     ]
    }
   ],
   "source": [
    "!pip install langchain  langchain-community cohere"
   ]
  },
  {
   "cell_type": "code",
   "execution_count": 6,
   "metadata": {},
   "outputs": [],
   "source": [
    "import getpass\n",
    "# import os\n",
    "\n",
    "COHERE_API_KEY = getpass.getpass()"
   ]
  },
  {
   "cell_type": "code",
   "execution_count": 7,
   "metadata": {},
   "outputs": [],
   "source": [
    "from langchain.llms import Cohere\n",
    "from langchain import PromptTemplate, LLMChain\n",
    "\n",
    "\n",
    "template = \"\"\"Question: {question}\n",
    " \n",
    "Answer: Let's think step by step.\"\"\"\n",
    " \n",
    "prompt = PromptTemplate(template=template, input_variables=[\"question\"])\n",
    "\n",
    "llm = Cohere(cohere_api_key=COHERE_API_KEY)\n",
    "llm_chain = LLMChain(prompt=prompt, llm=llm)"
   ]
  },
  {
   "cell_type": "markdown",
   "metadata": {},
   "source": [
    "### Ask a question"
   ]
  },
  {
   "cell_type": "code",
   "execution_count": 9,
   "metadata": {},
   "outputs": [
    {
     "name": "stdout",
     "output_type": "stream",
     "text": [
      " Justin Bieber was born on March 1, 1994.\n",
      "\n",
      "The NFL team that won the Super Bowl in the year Justin Bieber was born was the Dallas Cowboys, who won the Super Bowl 30 years earlier in the year 1994 against the Bills by a score of 30-13 under head coach Jimmy Johnson. \n",
      "\n",
      "The Cowboys' star running back, Emmitt Smith, scored the game's only touchdown, making him the only player in NFL history to score a touchdown in four Super Bowls. \n",
      "\n",
      "This was the Cowboys' second Super Bowl victory in franchise history, and they failed to win another since. \n"
     ]
    }
   ],
   "source": [
    "question = \"What NFL team won the Super Bowl in the year Justin Beiber was born?\"\n",
    " \n",
    "answer = llm_chain.run(question)\n",
    "\n",
    "print(answer)"
   ]
  }
 ],
 "metadata": {
  "kernelspec": {
   "display_name": "py39",
   "language": "python",
   "name": "python3"
  },
  "language_info": {
   "codemirror_mode": {
    "name": "ipython",
    "version": 3
   },
   "file_extension": ".py",
   "mimetype": "text/x-python",
   "name": "python",
   "nbconvert_exporter": "python",
   "pygments_lexer": "ipython3",
   "version": "3.9.18"
  }
 },
 "nbformat": 4,
 "nbformat_minor": 2
}
